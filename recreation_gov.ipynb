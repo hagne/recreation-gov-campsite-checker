{
 "cells": [
  {
   "cell_type": "markdown",
   "metadata": {},
   "source": [
    "# The goal"
   ]
  },
  {
   "cell_type": "markdown",
   "metadata": {},
   "source": [
    "* start a query that regularly executes a search and notifies me if seach finds something\n",
    "* allow group searches of campsites in a certain area .... or make my own groups "
   ]
  },
  {
   "cell_type": "markdown",
   "metadata": {},
   "source": [
    "# the plan"
   ]
  },
  {
   "cell_type": "markdown",
   "metadata": {},
   "source": [
    "1. new stategy: bundle searches in the form of scripts which are then run on a cron job\n",
    "1. settings file for credentials\n",
    "1. log results in log-file\n",
    "1. allow complex searches\n",
    "    1. two searches at the same time, meaning different sites at different times...but one search\n",
    "1. notify\n",
    "    1. try this: https://stackoverflow.com/questions/41791199/how-to-send-sms-to-python-script/45081907https://stackoverflow.com/questions/41791199/how-to-send-sms-to-python-script/45081907\n",
    "    1. what else beside sending sound ... email? Only if I actully ge notified\n",
    "1. autobook\n",
    "1. make an app out of it?"
   ]
  },
  {
   "cell_type": "markdown",
   "metadata": {},
   "source": [
    "# Linkes"
   ]
  },
  {
   "cell_type": "markdown",
   "metadata": {},
   "source": [
    "link to github page: https://github.com/hagne/recreation-gov-campsite-checker"
   ]
  },
  {
   "cell_type": "markdown",
   "metadata": {},
   "source": [
    "# turn this module into a api"
   ]
  },
  {
   "cell_type": "code",
   "execution_count": 1,
   "metadata": {},
   "outputs": [],
   "source": [
    "import os\n",
    "import time"
   ]
  },
  {
   "cell_type": "code",
   "execution_count": 5,
   "metadata": {},
   "outputs": [],
   "source": [
    "import importlib"
   ]
  },
  {
   "cell_type": "code",
   "execution_count": 3,
   "metadata": {},
   "outputs": [],
   "source": [
    "from recreationdotgov import recreationlab, campgrounds"
   ]
  },
  {
   "cell_type": "code",
   "execution_count": 6,
   "metadata": {},
   "outputs": [
    {
     "data": {
      "text/plain": [
       "<module 'recreationdotgov.campgrounds' from '/home/hagen/prog/recreation-gov-campsite-checker/recreationdotgov/campgrounds.py'>"
      ]
     },
     "execution_count": 6,
     "metadata": {},
     "output_type": "execute_result"
    }
   ],
   "source": [
    "importlib.reload(recreationlab)\n",
    "importlib.reload(campgrounds)"
   ]
  },
  {
   "cell_type": "code",
   "execution_count": 9,
   "metadata": {},
   "outputs": [
    {
     "name": "stdout",
     "output_type": "stream",
     "text": [
      "16:48:06..."
     ]
    },
    {
     "ename": "KeyboardInterrupt",
     "evalue": "",
     "output_type": "error",
     "traceback": [
      "\u001b[0;31m---------------------------------------------------------------------------\u001b[0m",
      "\u001b[0;31mKeyboardInterrupt\u001b[0m                         Traceback (most recent call last)",
      "\u001b[0;32m<ipython-input-9-846f6cbb8555>\u001b[0m in \u001b[0;36m<module>\u001b[0;34m\u001b[0m\n\u001b[1;32m      1\u001b[0m \u001b[0mcheckin\u001b[0m \u001b[0;34m=\u001b[0m \u001b[0;34m'08/29/2021'\u001b[0m\u001b[0;34m\u001b[0m\u001b[0;34m\u001b[0m\u001b[0m\n\u001b[0;32m----> 2\u001b[0;31m \u001b[0mout\u001b[0m \u001b[0;34m=\u001b[0m \u001b[0mcampgrounds\u001b[0m\u001b[0;34m.\u001b[0m\u001b[0mco\u001b[0m\u001b[0;34m.\u001b[0m\u001b[0mmake_query\u001b[0m\u001b[0;34m(\u001b[0m\u001b[0mcheckin\u001b[0m\u001b[0;34m,\u001b[0m \u001b[0;36m1\u001b[0m\u001b[0;34m,\u001b[0m \u001b[0mkeep_looking\u001b[0m\u001b[0;34m=\u001b[0m\u001b[0;36m1\u001b[0m\u001b[0;34m)\u001b[0m\u001b[0;34m\u001b[0m\u001b[0;34m\u001b[0m\u001b[0m\n\u001b[0m",
      "\u001b[0;32m~/prog/recreation-gov-campsite-checker/recreationdotgov/recreationlab.py\u001b[0m in \u001b[0;36mmake_query\u001b[0;34m(self, checkin_date, no_of_nights, keep_looking, verbose)\u001b[0m\n\u001b[1;32m    116\u001b[0m                     \u001b[0mfound_one\u001b[0m \u001b[0;34m=\u001b[0m \u001b[0;32mTrue\u001b[0m\u001b[0;34m\u001b[0m\u001b[0;34m\u001b[0m\u001b[0m\n\u001b[1;32m    117\u001b[0m                 \u001b[0;32melse\u001b[0m\u001b[0;34m:\u001b[0m\u001b[0;34m\u001b[0m\u001b[0;34m\u001b[0m\u001b[0m\n\u001b[0;32m--> 118\u001b[0;31m                     \u001b[0mtime\u001b[0m\u001b[0;34m.\u001b[0m\u001b[0msleep\u001b[0m\u001b[0;34m(\u001b[0m\u001b[0;36m300\u001b[0m\u001b[0;34m)\u001b[0m\u001b[0;34m\u001b[0m\u001b[0;34m\u001b[0m\u001b[0m\n\u001b[0m\u001b[1;32m    119\u001b[0m             \u001b[0;31m#     break\u001b[0m\u001b[0;34m\u001b[0m\u001b[0;34m\u001b[0m\u001b[0;34m\u001b[0m\u001b[0m\n\u001b[1;32m    120\u001b[0m \u001b[0;34m\u001b[0m\u001b[0m\n",
      "\u001b[0;31mKeyboardInterrupt\u001b[0m: "
     ]
    }
   ],
   "source": [
    "checkin = '08/29/2021'\n",
    "out = campgrounds.co.make_query(checkin, 1, keep_looking=1)"
   ]
  },
  {
   "cell_type": "code",
   "execution_count": 63,
   "metadata": {},
   "outputs": [],
   "source": [
    "class CampgroundCollection(object):\n",
    "    def __init__(self, campgrounds):\n",
    "        self.campgrounds = campgrounds\n",
    "        \n",
    "    def make_query(self, checkin_date, no_of_nights, keep_looking = False, verbose = True):\n",
    "        def single_query(checkin_date, no_of_nights):\n",
    "            no_of_nights = 1\n",
    "            res_list = []\n",
    "            for cg in self.campgrounds:\n",
    "                res_list.append(cg.make_query(checkin,no_of_nights, verbose = False))\n",
    "\n",
    "            res_list.sort(key = lambda x: x['no_available'], reverse=True)\n",
    "            return res_list\n",
    "        \n",
    "        if not keep_looking:\n",
    "            res_list = single_query(checkin_date, no_of_nights)\n",
    "            if verbose:\n",
    "                for res in res_list:\n",
    "                    print(f\"{res['no_available']} {res['campground_name']} {res['url']}\")\n",
    "        else:\n",
    "            found_one = False\n",
    "            while not found_one:\n",
    "                res_list = single_query(checkin_date, no_of_nights)\n",
    "                if max([i['no_available'] for i in res_list]) > 0:\n",
    "                    found_one = True\n",
    "                else:\n",
    "                    now = time.strftime(\"%T\", time.localtime())\n",
    "                    print(now, end = '...')\n",
    "                    time.sleep(300)\n",
    "            #     break\n",
    "\n",
    "            res_list.sort(key = lambda x: x['no_available'], reverse=True)\n",
    "            for res in res_list:\n",
    "                print(f\"{res['no_available']} {res['campground_name']} {res['url']}\")\n",
    "\n",
    "            while 1:\n",
    "                os.system('spd-say \"found one\"')\n",
    "                time.sleep(5)\n",
    "        return res_list\n",
    "            \n",
    "    \n",
    "    \n",
    "            "
   ]
  },
  {
   "cell_type": "code",
   "execution_count": 64,
   "metadata": {},
   "outputs": [],
   "source": [
    "checkin = '08/29/2020'\n",
    "checkin = '09/01/2020'\n",
    "cgc = CampgroundCollection(campgrounds.co)"
   ]
  },
  {
   "cell_type": "code",
   "execution_count": 65,
   "metadata": {},
   "outputs": [
    {
     "name": "stdout",
     "output_type": "stream",
     "text": [
      "2 GUANELLA PASS https://www.recreation.gov/camping/campgrounds/232306\n",
      "0 GLACIER BASIN CAMPGROUND https://www.recreation.gov/camping/campgrounds/232462\n",
      "0 PAWNEE https://www.recreation.gov/camping/campgrounds/232282\n"
     ]
    },
    {
     "ename": "KeyboardInterrupt",
     "evalue": "",
     "output_type": "error",
     "traceback": [
      "\u001b[0;31m---------------------------------------------------------------------------\u001b[0m",
      "\u001b[0;31mKeyboardInterrupt\u001b[0m                         Traceback (most recent call last)",
      "\u001b[0;32m<ipython-input-65-b7de99c9518a>\u001b[0m in \u001b[0;36m<module>\u001b[0;34m\u001b[0m\n\u001b[0;32m----> 1\u001b[0;31m \u001b[0mout\u001b[0m \u001b[0;34m=\u001b[0m \u001b[0mcgc\u001b[0m\u001b[0;34m.\u001b[0m\u001b[0mmake_query\u001b[0m\u001b[0;34m(\u001b[0m\u001b[0mcheckin\u001b[0m\u001b[0;34m,\u001b[0m \u001b[0;36m1\u001b[0m\u001b[0;34m,\u001b[0m \u001b[0mkeep_looking\u001b[0m\u001b[0;34m=\u001b[0m\u001b[0;36m300\u001b[0m\u001b[0;34m)\u001b[0m\u001b[0;34m\u001b[0m\u001b[0;34m\u001b[0m\u001b[0m\n\u001b[0m",
      "\u001b[0;32m<ipython-input-63-459579ef712c>\u001b[0m in \u001b[0;36mmake_query\u001b[0;34m(self, checkin_date, no_of_nights, keep_looking, verbose)\u001b[0m\n\u001b[1;32m     36\u001b[0m             \u001b[0;32mwhile\u001b[0m \u001b[0;36m1\u001b[0m\u001b[0;34m:\u001b[0m\u001b[0;34m\u001b[0m\u001b[0;34m\u001b[0m\u001b[0m\n\u001b[1;32m     37\u001b[0m                 \u001b[0mos\u001b[0m\u001b[0;34m.\u001b[0m\u001b[0msystem\u001b[0m\u001b[0;34m(\u001b[0m\u001b[0;34m'spd-say \"found one\"'\u001b[0m\u001b[0;34m)\u001b[0m\u001b[0;34m\u001b[0m\u001b[0;34m\u001b[0m\u001b[0m\n\u001b[0;32m---> 38\u001b[0;31m                 \u001b[0mtime\u001b[0m\u001b[0;34m.\u001b[0m\u001b[0msleep\u001b[0m\u001b[0;34m(\u001b[0m\u001b[0;36m5\u001b[0m\u001b[0;34m)\u001b[0m\u001b[0;34m\u001b[0m\u001b[0;34m\u001b[0m\u001b[0m\n\u001b[0m\u001b[1;32m     39\u001b[0m         \u001b[0;32mreturn\u001b[0m \u001b[0mres_list\u001b[0m\u001b[0;34m\u001b[0m\u001b[0;34m\u001b[0m\u001b[0m\n\u001b[1;32m     40\u001b[0m \u001b[0;34m\u001b[0m\u001b[0m\n",
      "\u001b[0;31mKeyboardInterrupt\u001b[0m: "
     ]
    }
   ],
   "source": [
    "out = cgc.make_query(checkin, 1, keep_looking=300)"
   ]
  },
  {
   "cell_type": "code",
   "execution_count": 43,
   "metadata": {},
   "outputs": [
    {
     "data": {
      "text/plain": [
       "[{'no_available': 2,\n",
       "  'campground_name': 'GUANELLA PASS',\n",
       "  'url': 'https://www.recreation.gov/camping/campgrounds/232306'},\n",
       " {'no_available': 0,\n",
       "  'campground_name': 'GLACIER BASIN CAMPGROUND',\n",
       "  'url': 'https://www.recreation.gov/camping/campgrounds/232462'},\n",
       " {'no_available': 0,\n",
       "  'campground_name': 'PAWNEE',\n",
       "  'url': 'https://www.recreation.gov/camping/campgrounds/232282'}]"
      ]
     },
     "execution_count": 43,
     "metadata": {},
     "output_type": "execute_result"
    }
   ],
   "source": [
    "out"
   ]
  },
  {
   "cell_type": "code",
   "execution_count": 62,
   "metadata": {},
   "outputs": [
    {
     "name": "stdout",
     "output_type": "stream",
     "text": [
      "0 GLACIER BASIN CAMPGROUND https://www.recreation.gov/camping/campgrounds/232462\n",
      "0 PAWNEE https://www.recreation.gov/camping/campgrounds/232282\n",
      "0 GUANELLA PASS https://www.recreation.gov/camping/campgrounds/232306\n"
     ]
    }
   ],
   "source": [
    "no_of_nights = 1\n",
    "res_list = []\n",
    "for cg in cglist:\n",
    "    res_list.append(cg.make_query(checkin,no_of_nights))\n",
    "\n",
    "res_list.sort(key = lambda x: x['no_available'], reverse=True)\n",
    "for res in res_list:\n",
    "    print(f\"{res['no_available']} {res['campground_name']} {res['url']}\")"
   ]
  },
  {
   "cell_type": "code",
   "execution_count": 63,
   "metadata": {},
   "outputs": [
    {
     "data": {
      "text/plain": [
       "0"
      ]
     },
     "execution_count": 63,
     "metadata": {},
     "output_type": "execute_result"
    }
   ],
   "source": [
    "os.system('spd-say \"test 1 2 3\"')"
   ]
  },
  {
   "cell_type": "code",
   "execution_count": 65,
   "metadata": {},
   "outputs": [
    {
     "name": "stderr",
     "output_type": "stream",
     "text": [
      "/home/hagen/anaconda3/envs/py37/lib/python3.7/site-packages/ipykernel_launcher.py:1: DeprecationWarning: time.clock has been deprecated in Python 3.3 and will be removed from Python 3.8: use time.perf_counter or time.process_time instead\n",
      "  \"\"\"Entry point for launching an IPython kernel.\n"
     ]
    },
    {
     "data": {
      "text/plain": [
       "5.109119"
      ]
     },
     "execution_count": 65,
     "metadata": {},
     "output_type": "execute_result"
    }
   ],
   "source": [
    "time.clock()"
   ]
  },
  {
   "cell_type": "code",
   "execution_count": 67,
   "metadata": {},
   "outputs": [
    {
     "name": "stdout",
     "output_type": "stream",
     "text": [
      "15:00:38...15:05:40...15:10:42...15:15:44...15:20:45...15:25:47...15:30:50...15:35:52...15:40:54...15:45:56...15:50:57...15:55:58...16:01:00...16:06:04...16:11:06...16:16:08...16:21:09...16:26:11...16:31:12...16:36:16...16:41:18...16:46:22...16:51:23...16:56:25...17:01:27...17:06:29...17:11:30...17:16:33...17:21:35...17:26:38...17:31:46...17:36:48...17:41:50...17:46:52...17:51:54...17:56:58...18:02:00...18:07:03...18:12:04...18:17:07...18:22:09...18:27:12...18:32:14...18:37:16...18:42:18...18:47:19...18:52:21...18:57:22...19:02:24...19:07:26...19:12:29...19:17:31...19:22:33...19:27:34...19:32:37...19:37:40...19:42:41...19:47:43...19:52:45...19:57:47...20:02:48...20:09:00...20:14:01...20:19:02...20:24:05...20:29:07...20:34:10...20:39:12...20:44:14...20:49:16...20:54:20...20:59:22..."
     ]
    },
    {
     "ename": "KeyboardInterrupt",
     "evalue": "",
     "output_type": "error",
     "traceback": [
      "\u001b[0;31m---------------------------------------------------------------------------\u001b[0m",
      "\u001b[0;31mKeyboardInterrupt\u001b[0m                         Traceback (most recent call last)",
      "\u001b[0;32m<ipython-input-67-b42ae6a113fb>\u001b[0m in \u001b[0;36m<module>\u001b[0;34m\u001b[0m\n\u001b[1;32m      9\u001b[0m         \u001b[0mnow\u001b[0m \u001b[0;34m=\u001b[0m \u001b[0mtime\u001b[0m\u001b[0;34m.\u001b[0m\u001b[0mstrftime\u001b[0m\u001b[0;34m(\u001b[0m\u001b[0;34m\"%T\"\u001b[0m\u001b[0;34m,\u001b[0m \u001b[0mtime\u001b[0m\u001b[0;34m.\u001b[0m\u001b[0mlocaltime\u001b[0m\u001b[0;34m(\u001b[0m\u001b[0;34m)\u001b[0m\u001b[0;34m)\u001b[0m\u001b[0;34m\u001b[0m\u001b[0;34m\u001b[0m\u001b[0m\n\u001b[1;32m     10\u001b[0m         \u001b[0mprint\u001b[0m\u001b[0;34m(\u001b[0m\u001b[0mnow\u001b[0m\u001b[0;34m,\u001b[0m \u001b[0mend\u001b[0m \u001b[0;34m=\u001b[0m \u001b[0;34m'...'\u001b[0m\u001b[0;34m)\u001b[0m\u001b[0;34m\u001b[0m\u001b[0;34m\u001b[0m\u001b[0m\n\u001b[0;32m---> 11\u001b[0;31m         \u001b[0mtime\u001b[0m\u001b[0;34m.\u001b[0m\u001b[0msleep\u001b[0m\u001b[0;34m(\u001b[0m\u001b[0;36m300\u001b[0m\u001b[0;34m)\u001b[0m\u001b[0;34m\u001b[0m\u001b[0;34m\u001b[0m\u001b[0m\n\u001b[0m\u001b[1;32m     12\u001b[0m \u001b[0;31m#     break\u001b[0m\u001b[0;34m\u001b[0m\u001b[0;34m\u001b[0m\u001b[0;34m\u001b[0m\u001b[0m\n\u001b[1;32m     13\u001b[0m \u001b[0;34m\u001b[0m\u001b[0m\n",
      "\u001b[0;31mKeyboardInterrupt\u001b[0m: "
     ]
    }
   ],
   "source": [
    "found_one = False\n",
    "while not found_one:\n",
    "    res_list = []\n",
    "    for cg in cglist:\n",
    "        res_list.append(cg.make_query(checkin,no_of_nights))\n",
    "    if max([i['no_available'] for i in res_list]) > 0:\n",
    "        found_one = True\n",
    "    else:\n",
    "        now = time.strftime(\"%T\", time.localtime())\n",
    "        print(now, end = '...')\n",
    "        time.sleep(300)\n",
    "#     break\n",
    "\n",
    "res_list.sort(key = lambda x: x['no_available'], reverse=True)\n",
    "for res in res_list:\n",
    "    print(f\"{res['no_available']} {res['campground_name']} {res['url']}\")\n",
    "\n",
    "while 1:\n",
    "    os.system('spd-say \"found one\"')\n",
    "    time.sleep(5)"
   ]
  },
  {
   "cell_type": "markdown",
   "metadata": {},
   "source": [
    "# development"
   ]
  },
  {
   "cell_type": "code",
   "execution_count": 44,
   "metadata": {},
   "outputs": [],
   "source": [
    "import pandas as pd\n",
    "from datetime import date, datetime, timedelta \n",
    "from dateutil import rrule\n",
    "import requests\n",
    "from fake_useragent import UserAgent\n",
    "import os\n"
   ]
  },
  {
   "cell_type": "code",
   "execution_count": 68,
   "metadata": {},
   "outputs": [
    {
     "data": {
      "text/plain": [
       "<module 'recreationdotgov.recreationlab' from '/home/hagen/prog/recreation-gov-campsite-checker/recreationdotgov/recreationlab.py'>"
      ]
     },
     "execution_count": 68,
     "metadata": {},
     "output_type": "execute_result"
    }
   ],
   "source": [
    "reload(recreationlab)"
   ]
  },
  {
   "cell_type": "code",
   "execution_count": 51,
   "metadata": {},
   "outputs": [],
   "source": [
    "start, end = pd.to_datetime('2020-08-28'), pd.to_datetime('2020-08-29')"
   ]
  },
  {
   "cell_type": "code",
   "execution_count": 59,
   "metadata": {},
   "outputs": [],
   "source": [
    "start, end = pd.to_datetime('2020-11-01'), pd.to_datetime('2020-11-04')"
   ]
  },
  {
   "cell_type": "code",
   "execution_count": 6,
   "metadata": {},
   "outputs": [],
   "source": [
    "out = recreationlab.get_park_information(234059, start, end, campsite_type=None)"
   ]
  },
  {
   "cell_type": "code",
   "execution_count": 14,
   "metadata": {},
   "outputs": [],
   "source": [
    "nofnights = 5\n",
    "start, end = pd.to_datetime('2020-11-01'), pd.to_datetime('2020-11-07')"
   ]
  },
  {
   "cell_type": "code",
   "execution_count": 28,
   "metadata": {},
   "outputs": [],
   "source": [
    "ISO_DATE_FORMAT_REQUEST = \"%Y-%m-%dT00:00:00.000Z\"\n",
    "BASE_URL = \"https://www.recreation.gov\"\n",
    "AVAILABILITY_ENDPOINT = \"/api/camps/availability/campground/\"\n",
    "headers = {\"User-Agent\": UserAgent().random}\n",
    "MAIN_PAGE_ENDPOINT = \"/api/camps/campgrounds/\"\n",
    "\n",
    "\n",
    "def format_date(date_object, format_string=ISO_DATE_FORMAT_REQUEST):\n",
    "    \"\"\"\n",
    "    Todo: get rid of it by replacing with pandas\n",
    "    This function doesn't manipulate the date itself at all, it just\n",
    "    formats the date in the format that the API wants.\n",
    "    \"\"\"\n",
    "    date_formatted = datetime.strftime(date_object, format_string)\n",
    "    return date_formatted\n",
    "\n",
    "def send_request(url, params):\n",
    "    resp = requests.get(url, params=params, headers=headers)\n",
    "    if resp.status_code != 200:\n",
    "        raise RuntimeError(\n",
    "            \"failedRequest\",\n",
    "            \"ERROR, {} code received from {}: {}\".format(\n",
    "                resp.status_code, url, resp.text\n",
    "            ),\n",
    "        )\n",
    "    return resp.json()\n",
    "\n",
    "class Campground(object):\n",
    "    def __init__(self, id):\n",
    "        self._base_url_html = 'https://www.recreation.gov/camping/campgrounds/'\n",
    "        self.id = id\n",
    "#         self.query = Query\n",
    "        self._info = None\n",
    "    \n",
    "    def make_query(self, checkin_date, no_of_nights):\n",
    "        query = Query(self, checkin_date=checkin_date, no_of_nights= no_of_nights)\n",
    "        self.query = query\n",
    "        out = {}\n",
    "        out['no_available'] = len(query.available_sites)\n",
    "        out['campground_name'] = self.info['facility_name']\n",
    "        out['url'] = self.info['url_html']\n",
    "        return out\n",
    "    \n",
    "    @property\n",
    "    def info(self):\n",
    "        if isinstance(self._info, type(None)):\n",
    "            url = \"{}{}{}\".format(BASE_URL, MAIN_PAGE_ENDPOINT, self.id)\n",
    "            resp = send_request(url, {})['campground']\n",
    "            resp['url_api'] = url\n",
    "            resp['url_html'] = f'{self._base_url_html}{self.id}'\n",
    "            self._info = resp\n",
    "        return self._info#[\"campground\"][\"facility_name\"]\n",
    "    \n",
    "    @property\n",
    "    def info_short(self):\n",
    "        add = self.info['addresses'][0]\n",
    "        short_info = f\"{self.info['facility_name']}\\n{self.info['url_html']}\\n{add['address1']},{add['city']}, {add['state_code']}\"\n",
    "        return short_info\n",
    "\n",
    "\n",
    "\n",
    "class Query(object):\n",
    "    def __init__(self, campground, checkin_date = '2020-11-01', no_of_nights = 1):\n",
    "        self.campground = campground\n",
    "        self._api_data = None\n",
    "        self.date_checkin = pd.to_datetime(checkin_date)\n",
    "        self._date_checkout = None\n",
    "        self.no_of_nights = no_of_nights\n",
    "        self.campsite_type = False#'GROUP TENT ONLY AREA NONELECTRIC'\n",
    "        return\n",
    "    \n",
    "    @property\n",
    "    def date_checkout(self):\n",
    "        if isinstance(self._date_checkout, type(None)):\n",
    "            self._date_checkout = self.date_checkin + pd.to_timedelta(self.no_of_nights, 'd')\n",
    "        return self._date_checkout\n",
    "            \n",
    "    \n",
    "    @property\n",
    "    def api_data(self):\n",
    "        if isinstance(self._api_data, type(None)):\n",
    "            # Get each first of the month for months in the range we care about.\n",
    "            start_of_month = datetime(self.date_checkin.year, self.date_checkin.month, 1)\n",
    "            months = list(rrule.rrule(rrule.MONTHLY, dtstart=start_of_month, until=self.date_checkout))\n",
    "\n",
    "            # Get data for each month.\n",
    "            api_data = []\n",
    "            for month_date in months:\n",
    "                params = {\"start_date\": format_date(month_date)}\n",
    "#                 LOG.debug(\"Querying for {} with these params: {}\".format(park_id, params))\n",
    "                url = \"{}{}{}/month?\".format(BASE_URL, AVAILABILITY_ENDPOINT, self.campground.id)\n",
    "                resp = send_request(url, params)\n",
    "                api_data.append(resp)\n",
    "            self._api_data = api_data\n",
    "        return self._api_data\n",
    "    \n",
    "    @property\n",
    "    def available_sites(self):\n",
    "        # Collapse the data into the described output format.\n",
    "        # Filter by campsite_type if necessary.\n",
    "        data = {}\n",
    "        for month_data in self.api_data:\n",
    "            for campsite_id, campsite_data in month_data[\"campsites\"].items():\n",
    "                available = []\n",
    "                for date, availability_value in campsite_data[\"availabilities\"].items():\n",
    "                    if availability_value != \"Available\":\n",
    "                        continue\n",
    "#                     print(campsite_data[\"campsite_type\"])\n",
    "                    if self.campsite_type and self.campsite_type != campsite_data[\"campsite_type\"]:\n",
    "                        continue\n",
    "                    available.append(date)\n",
    "                if available:\n",
    "                    a = data.setdefault(campsite_id, [])\n",
    "                    a += available\n",
    "                    \n",
    "        # match with what we want\n",
    "#         park_information = out\n",
    "        dates = pd.date_range(self.date_checkin, periods=self.no_of_nights)\n",
    "        available_sites = []\n",
    "        for site, availabilities in data.items():\n",
    "            # List of dates that are in the desired range for this site.\n",
    "            desired_available = []\n",
    "            for date in availabilities:\n",
    "                if date not in dates:\n",
    "                    continue\n",
    "                desired_available.append(date)\n",
    "            if desired_available and recreationlab.consecutive_nights(desired_available, self.no_of_nights):\n",
    "                available_sites.append(site)\n",
    "        #         LOG.debug(\"Available site {}: {}\".format(num_available, site))\n",
    "        return available_sites"
   ]
  },
  {
   "cell_type": "code",
   "execution_count": 59,
   "metadata": {},
   "outputs": [],
   "source": [
    "#CO\n",
    "## rocky moutain national park\n",
    "co_rmnp_glacier_basin = Campground(232462)\n",
    "\n",
    "## indian peaks\n",
    "co_indian_peaks_pawnee = Campground(232282)\n",
    "\n",
    "## mount evens\n",
    "co_evens_gueanella_pass = Campground(232306)\n",
    "\n",
    "# Lists\n",
    "co_rmnp = [co_rmnp_glacier_basin]\n",
    "co_indian_peaks = [co_indian_peaks_pawnee]\n",
    "co_evens = [co_evens_gueanella_pass]\n",
    "\n",
    "cglist = co_rmnp + co_indian_peaks + co_evens "
   ]
  },
  {
   "cell_type": "code",
   "execution_count": 62,
   "metadata": {},
   "outputs": [
    {
     "name": "stdout",
     "output_type": "stream",
     "text": [
      "0 GLACIER BASIN CAMPGROUND https://www.recreation.gov/camping/campgrounds/232462\n",
      "0 PAWNEE https://www.recreation.gov/camping/campgrounds/232282\n",
      "0 GUANELLA PASS https://www.recreation.gov/camping/campgrounds/232306\n"
     ]
    }
   ],
   "source": [
    "checkin = '08/29/2020'\n",
    "# checkin = '09/01/2020'\n",
    "\n",
    "no_of_nights = 1\n",
    "res_list = []\n",
    "for cg in cglist:\n",
    "    res_list.append(cg.make_query(checkin,no_of_nights))\n",
    "\n",
    "res_list.sort(key = lambda x: x['no_available'], reverse=True)\n",
    "for res in res_list:\n",
    "    print(f\"{res['no_available']} {res['campground_name']} {res['url']}\")"
   ]
  },
  {
   "cell_type": "code",
   "execution_count": 63,
   "metadata": {},
   "outputs": [
    {
     "data": {
      "text/plain": [
       "0"
      ]
     },
     "execution_count": 63,
     "metadata": {},
     "output_type": "execute_result"
    }
   ],
   "source": [
    "os.system('spd-say \"test 1 2 3\"')"
   ]
  },
  {
   "cell_type": "code",
   "execution_count": 65,
   "metadata": {},
   "outputs": [
    {
     "name": "stderr",
     "output_type": "stream",
     "text": [
      "/home/hagen/anaconda3/envs/py37/lib/python3.7/site-packages/ipykernel_launcher.py:1: DeprecationWarning: time.clock has been deprecated in Python 3.3 and will be removed from Python 3.8: use time.perf_counter or time.process_time instead\n",
      "  \"\"\"Entry point for launching an IPython kernel.\n"
     ]
    },
    {
     "data": {
      "text/plain": [
       "5.109119"
      ]
     },
     "execution_count": 65,
     "metadata": {},
     "output_type": "execute_result"
    }
   ],
   "source": [
    "time.clock()"
   ]
  },
  {
   "cell_type": "code",
   "execution_count": 67,
   "metadata": {},
   "outputs": [
    {
     "name": "stdout",
     "output_type": "stream",
     "text": [
      "15:00:38...15:05:40...15:10:42...15:15:44...15:20:45...15:25:47...15:30:50...15:35:52...15:40:54...15:45:56...15:50:57...15:55:58...16:01:00...16:06:04...16:11:06...16:16:08...16:21:09...16:26:11...16:31:12...16:36:16...16:41:18...16:46:22...16:51:23...16:56:25...17:01:27...17:06:29...17:11:30...17:16:33...17:21:35...17:26:38...17:31:46...17:36:48...17:41:50...17:46:52...17:51:54...17:56:58...18:02:00...18:07:03...18:12:04...18:17:07...18:22:09...18:27:12...18:32:14...18:37:16...18:42:18...18:47:19...18:52:21...18:57:22...19:02:24...19:07:26...19:12:29...19:17:31...19:22:33...19:27:34...19:32:37...19:37:40...19:42:41...19:47:43...19:52:45...19:57:47...20:02:48...20:09:00...20:14:01...20:19:02...20:24:05...20:29:07...20:34:10...20:39:12...20:44:14...20:49:16...20:54:20...20:59:22..."
     ]
    },
    {
     "ename": "KeyboardInterrupt",
     "evalue": "",
     "output_type": "error",
     "traceback": [
      "\u001b[0;31m---------------------------------------------------------------------------\u001b[0m",
      "\u001b[0;31mKeyboardInterrupt\u001b[0m                         Traceback (most recent call last)",
      "\u001b[0;32m<ipython-input-67-b42ae6a113fb>\u001b[0m in \u001b[0;36m<module>\u001b[0;34m\u001b[0m\n\u001b[1;32m      9\u001b[0m         \u001b[0mnow\u001b[0m \u001b[0;34m=\u001b[0m \u001b[0mtime\u001b[0m\u001b[0;34m.\u001b[0m\u001b[0mstrftime\u001b[0m\u001b[0;34m(\u001b[0m\u001b[0;34m\"%T\"\u001b[0m\u001b[0;34m,\u001b[0m \u001b[0mtime\u001b[0m\u001b[0;34m.\u001b[0m\u001b[0mlocaltime\u001b[0m\u001b[0;34m(\u001b[0m\u001b[0;34m)\u001b[0m\u001b[0;34m)\u001b[0m\u001b[0;34m\u001b[0m\u001b[0;34m\u001b[0m\u001b[0m\n\u001b[1;32m     10\u001b[0m         \u001b[0mprint\u001b[0m\u001b[0;34m(\u001b[0m\u001b[0mnow\u001b[0m\u001b[0;34m,\u001b[0m \u001b[0mend\u001b[0m \u001b[0;34m=\u001b[0m \u001b[0;34m'...'\u001b[0m\u001b[0;34m)\u001b[0m\u001b[0;34m\u001b[0m\u001b[0;34m\u001b[0m\u001b[0m\n\u001b[0;32m---> 11\u001b[0;31m         \u001b[0mtime\u001b[0m\u001b[0;34m.\u001b[0m\u001b[0msleep\u001b[0m\u001b[0;34m(\u001b[0m\u001b[0;36m300\u001b[0m\u001b[0;34m)\u001b[0m\u001b[0;34m\u001b[0m\u001b[0;34m\u001b[0m\u001b[0m\n\u001b[0m\u001b[1;32m     12\u001b[0m \u001b[0;31m#     break\u001b[0m\u001b[0;34m\u001b[0m\u001b[0;34m\u001b[0m\u001b[0;34m\u001b[0m\u001b[0m\n\u001b[1;32m     13\u001b[0m \u001b[0;34m\u001b[0m\u001b[0m\n",
      "\u001b[0;31mKeyboardInterrupt\u001b[0m: "
     ]
    }
   ],
   "source": [
    "found_one = False\n",
    "while not found_one:\n",
    "    res_list = []\n",
    "    for cg in cglist:\n",
    "        res_list.append(cg.make_query(checkin,no_of_nights))\n",
    "    if max([i['no_available'] for i in res_list]) > 0:\n",
    "        found_one = True\n",
    "    else:\n",
    "        now = time.strftime(\"%T\", time.localtime())\n",
    "        print(now, end = '...')\n",
    "        time.sleep(300)\n",
    "#     break\n",
    "\n",
    "res_list.sort(key = lambda x: x['no_available'], reverse=True)\n",
    "for res in res_list:\n",
    "    print(f\"{res['no_available']} {res['campground_name']} {res['url']}\")\n",
    "\n",
    "while 1:\n",
    "    os.system('spd-say \"found one\"')\n",
    "    time.sleep(5)"
   ]
  },
  {
   "cell_type": "code",
   "execution_count": 50,
   "metadata": {},
   "outputs": [
    {
     "data": {
      "text/plain": [
       "0"
      ]
     },
     "execution_count": 50,
     "metadata": {},
     "output_type": "execute_result"
    }
   ],
   "source": []
  },
  {
   "cell_type": "code",
   "execution_count": null,
   "metadata": {},
   "outputs": [],
   "source": []
  },
  {
   "cell_type": "code",
   "execution_count": 179,
   "metadata": {},
   "outputs": [
    {
     "name": "stdout",
     "output_type": "stream",
     "text": [
      "DEVILS GARDEN CAMPGROUND\n",
      "https://www.recreation.gov/camping/campgrounds/234059\n",
      "2282 S. WEST RESOURCE BLVD,MOAB, UT\n"
     ]
    }
   ],
   "source": [
    "add = cb.info['addresses'][0]\n",
    "short_info = f\"{cb.info['facility_name']}\\n{cb.info['url_html']}\\n{add['address1']},{add['city']}, {add['state_code']}\"\n",
    "print(short_info)"
   ]
  },
  {
   "cell_type": "code",
   "execution_count": 163,
   "metadata": {},
   "outputs": [
    {
     "data": {
      "text/plain": [
       "'https://www.recreation.gov/camping/campgrounds/234059'"
      ]
     },
     "execution_count": 163,
     "metadata": {},
     "output_type": "execute_result"
    }
   ],
   "source": [
    "cb.info['url_html']"
   ]
  },
  {
   "cell_type": "code",
   "execution_count": 134,
   "metadata": {},
   "outputs": [
    {
     "data": {
      "text/plain": [
       "[{'address1': '2282 S. WEST RESOURCE BLVD',\n",
       "  'address2': '',\n",
       "  'address3': '',\n",
       "  'address_type': 'Default',\n",
       "  'asset_address_id': '20439404',\n",
       "  'city': 'MOAB',\n",
       "  'country_code': 'USA',\n",
       "  'created_date': '2018-06-26T14:05:06.129Z',\n",
       "  'is_deactivated': False,\n",
       "  'postal_code': '84532-0907',\n",
       "  'state_code': 'UT',\n",
       "  'updated_date': '2018-06-26T14:05:06.129Z'}]"
      ]
     },
     "execution_count": 134,
     "metadata": {},
     "output_type": "execute_result"
    }
   ],
   "source": [
    "cb.info['campground']['addresses']#.keys()"
   ]
  },
  {
   "cell_type": "code",
   "execution_count": 115,
   "metadata": {},
   "outputs": [
    {
     "data": {
      "text/plain": [
       "['7858', '7859']"
      ]
     },
     "execution_count": 115,
     "metadata": {},
     "output_type": "execute_result"
    }
   ],
   "source": [
    "cb.query.available_sites"
   ]
  },
  {
   "cell_type": "code",
   "execution_count": null,
   "metadata": {},
   "outputs": [],
   "source": []
  },
  {
   "cell_type": "code",
   "execution_count": null,
   "metadata": {},
   "outputs": [],
   "source": []
  },
  {
   "cell_type": "code",
   "execution_count": null,
   "metadata": {},
   "outputs": [],
   "source": []
  },
  {
   "cell_type": "code",
   "execution_count": 91,
   "metadata": {},
   "outputs": [],
   "source": [
    "api_data = cb.query.api_data"
   ]
  },
  {
   "cell_type": "code",
   "execution_count": null,
   "metadata": {},
   "outputs": [],
   "source": []
  },
  {
   "cell_type": "code",
   "execution_count": null,
   "metadata": {},
   "outputs": [],
   "source": []
  },
  {
   "cell_type": "code",
   "execution_count": null,
   "metadata": {},
   "outputs": [],
   "source": []
  },
  {
   "cell_type": "code",
   "execution_count": 15,
   "metadata": {},
   "outputs": [],
   "source": [
    "if isinstance(nofnights, type(None)):\n",
    "    dates = pd.date_range(start, end)[:-1]\n",
    "    nofnights = len(dates)\n",
    "else:\n",
    "    dates = pd.date_range(start, periods=nofnights)"
   ]
  },
  {
   "cell_type": "code",
   "execution_count": 16,
   "metadata": {},
   "outputs": [],
   "source": [
    "park_information = out\n",
    "available_sites = []\n",
    "for site, availabilities in park_information.items():\n",
    "    # List of dates that are in the desired range for this site.\n",
    "    desired_available = []\n",
    "    for date in availabilities:\n",
    "        if date not in dates:\n",
    "            continue\n",
    "        desired_available.append(date)\n",
    "    if desired_available and recreationlab.consecutive_nights(desired_available, nofnights):\n",
    "        available_sites.append(site)\n",
    "#         LOG.debug(\"Available site {}: {}\".format(num_available, site))"
   ]
  },
  {
   "cell_type": "code",
   "execution_count": null,
   "metadata": {},
   "outputs": [],
   "source": []
  },
  {
   "cell_type": "code",
   "execution_count": 17,
   "metadata": {},
   "outputs": [
    {
     "data": {
      "text/plain": [
       "['7858', '7859']"
      ]
     },
     "execution_count": 17,
     "metadata": {},
     "output_type": "execute_result"
    }
   ],
   "source": [
    "# park_information\n",
    "available_sites"
   ]
  },
  {
   "cell_type": "code",
   "execution_count": null,
   "metadata": {},
   "outputs": [],
   "source": []
  },
  {
   "cell_type": "code",
   "execution_count": null,
   "metadata": {},
   "outputs": [],
   "source": []
  },
  {
   "cell_type": "code",
   "execution_count": 5,
   "metadata": {},
   "outputs": [],
   "source": [
    "class Destinations_And_activities(object):\n",
    "    def __init__(self, id):\n",
    "        self.id = id\n",
    "        pass\n",
    "        \n",
    "class Campground(Destinations_And_activities):\n",
    "    pass\n",
    "\n",
    "class Querey(object):\n",
    "    def __init__(self, sites=None):\n",
    "        \n",
    "        pass\n",
    "    \n",
    "    def send(self):\n",
    "        \n",
    "    \n"
   ]
  },
  {
   "cell_type": "code",
   "execution_count": 6,
   "metadata": {},
   "outputs": [],
   "source": [
    "cs = Campsite(232462)"
   ]
  },
  {
   "cell_type": "code",
   "execution_count": 7,
   "metadata": {},
   "outputs": [
    {
     "data": {
      "text/plain": [
       "232462"
      ]
     },
     "execution_count": 7,
     "metadata": {},
     "output_type": "execute_result"
    }
   ],
   "source": [
    "cs.id"
   ]
  },
  {
   "cell_type": "markdown",
   "metadata": {},
   "source": [
    "# notify"
   ]
  },
  {
   "cell_type": "markdown",
   "metadata": {},
   "source": [
    "## send sms with twilio"
   ]
  },
  {
   "cell_type": "code",
   "execution_count": 1,
   "metadata": {},
   "outputs": [],
   "source": [
    "from twilio.rest import Client"
   ]
  },
  {
   "cell_type": "code",
   "execution_count": 7,
   "metadata": {},
   "outputs": [],
   "source": [
    "account_sid = \"ACa499b9f8533f9e56fbc46492ced71928\"\n",
    "auth_token = \"840877d01b8c262efc8f484f0054f2d6\"\n",
    "client = Client(account_sid, auth_token)"
   ]
  },
  {
   "cell_type": "code",
   "execution_count": 13,
   "metadata": {},
   "outputs": [],
   "source": [
    "msg = 'MC 16: https://www.recreation.gov/camping/campsites/27547'\n",
    "msg = 'MC 15: https://www.recreation.gov/camping/campsites/27889'\n",
    "msg = \"bla\\n---------\\nbuba\""
   ]
  },
  {
   "cell_type": "code",
   "execution_count": 14,
   "metadata": {},
   "outputs": [],
   "source": [
    "message = client.messages.create(body=msg, from_='+12517664860', to= '+15052055425')"
   ]
  },
  {
   "cell_type": "code",
   "execution_count": null,
   "metadata": {},
   "outputs": [],
   "source": []
  },
  {
   "cell_type": "markdown",
   "metadata": {},
   "source": [
    "## playsound"
   ]
  },
  {
   "cell_type": "code",
   "execution_count": 3,
   "metadata": {},
   "outputs": [],
   "source": [
    "from playsound import playsound"
   ]
  },
  {
   "cell_type": "code",
   "execution_count": 5,
   "metadata": {},
   "outputs": [],
   "source": [
    "p2s = '/usr/share/sounds/gnome/default/alerts/bark.ogg'\n",
    "# p2s = '/mnt/data/hagen/hoerspiele/derHerrDerRinge/Der_Herr_der_Ringe_30-zu_guter letzt.mp3'"
   ]
  },
  {
   "cell_type": "code",
   "execution_count": null,
   "metadata": {},
   "outputs": [],
   "source": [
    "playsound(p2s)"
   ]
  },
  {
   "cell_type": "code",
   "execution_count": 1,
   "metadata": {},
   "outputs": [
    {
     "ename": "ModuleNotFoundError",
     "evalue": "No module named 'simpleaudio'",
     "output_type": "error",
     "traceback": [
      "\u001b[0;31m---------------------------------------------------------------------------\u001b[0m",
      "\u001b[0;31mModuleNotFoundError\u001b[0m                       Traceback (most recent call last)",
      "\u001b[0;32m<ipython-input-1-daa16f98fe89>\u001b[0m in \u001b[0;36m<module>\u001b[0;34m\u001b[0m\n\u001b[0;32m----> 1\u001b[0;31m \u001b[0;32mimport\u001b[0m \u001b[0msimpleaudio\u001b[0m \u001b[0;32mas\u001b[0m \u001b[0msa\u001b[0m\u001b[0;34m\u001b[0m\u001b[0;34m\u001b[0m\u001b[0m\n\u001b[0m",
      "\u001b[0;31mModuleNotFoundError\u001b[0m: No module named 'simpleaudio'"
     ]
    }
   ],
   "source": [
    "import simpleaudio as sa"
   ]
  },
  {
   "cell_type": "code",
   "execution_count": 40,
   "metadata": {},
   "outputs": [],
   "source": [
    "import os"
   ]
  },
  {
   "cell_type": "code",
   "execution_count": 43,
   "metadata": {},
   "outputs": [
    {
     "data": {
      "text/plain": [
       "0"
      ]
     },
     "execution_count": 43,
     "metadata": {},
     "output_type": "execute_result"
    }
   ],
   "source": [
    "os.system('spd-say \"huhuuuuuu campsite found\"')"
   ]
  },
  {
   "cell_type": "code",
   "execution_count": null,
   "metadata": {},
   "outputs": [],
   "source": []
  },
  {
   "cell_type": "code",
   "execution_count": null,
   "metadata": {},
   "outputs": [],
   "source": []
  }
 ],
 "metadata": {
  "kernelspec": {
   "display_name": "Python 3",
   "language": "python",
   "name": "python3"
  },
  "language_info": {
   "codemirror_mode": {
    "name": "ipython",
    "version": 3
   },
   "file_extension": ".py",
   "mimetype": "text/x-python",
   "name": "python",
   "nbconvert_exporter": "python",
   "pygments_lexer": "ipython3",
   "version": "3.8.5"
  },
  "toc-autonumbering": true
 },
 "nbformat": 4,
 "nbformat_minor": 4
}
