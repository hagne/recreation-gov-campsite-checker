{
 "cells": [
  {
   "cell_type": "markdown",
   "metadata": {},
   "source": [
    "# The goal"
   ]
  },
  {
   "cell_type": "markdown",
   "metadata": {},
   "source": [
    "* start a query that regularly executes a search and notifies me if seach finds something\n",
    "* allow group searches of campsites in a certain area .... or make my own groups "
   ]
  },
  {
   "cell_type": "markdown",
   "metadata": {},
   "source": [
    "# the plan"
   ]
  },
  {
   "cell_type": "markdown",
   "metadata": {},
   "source": [
    "1. new stategy: bundle searches in the form of scripts which are then run on a cron job\n",
    "1. settings file for credentials\n",
    "1. log results in log-file\n",
    "1. allow complex searches\n",
    "    1. two searches at the same time, meaning different sites at different times...but one search\n",
    "1. notify\n",
    "    1. try this: https://stackoverflow.com/questions/41791199/how-to-send-sms-to-python-script/45081907https://stackoverflow.com/questions/41791199/how-to-send-sms-to-python-script/45081907\n",
    "    1. what else beside sending sound ... email? Only if I actully ge notified\n",
    "1. autobook\n",
    "1. make an app out of it?"
   ]
  },
  {
   "cell_type": "markdown",
   "metadata": {},
   "source": [
    "# Linkes"
   ]
  },
  {
   "cell_type": "markdown",
   "metadata": {},
   "source": [
    "link to github page: https://github.com/hagne/recreation-gov-campsite-checker"
   ]
  },
  {
   "cell_type": "markdown",
   "metadata": {},
   "source": [
    "# turn this module into a api"
   ]
  },
  {
   "cell_type": "code",
   "execution_count": 7,
   "metadata": {},
   "outputs": [],
   "source": [
    "import os\n",
    "import time"
   ]
  },
  {
   "cell_type": "code",
   "execution_count": 8,
   "metadata": {},
   "outputs": [],
   "source": [
    "import importlib"
   ]
  },
  {
   "cell_type": "code",
   "execution_count": 9,
   "metadata": {},
   "outputs": [],
   "source": [
    "from recreationdotgov import recreationlab, campgrounds"
   ]
  },
  {
   "cell_type": "code",
   "execution_count": 128,
   "metadata": {},
   "outputs": [
    {
     "data": {
      "text/plain": [
       "<module 'recreationdotgov.campgrounds' from '/home/hagen/prog/recreation-gov-campsite-checker/recreationdotgov/campgrounds.py'>"
      ]
     },
     "execution_count": 128,
     "metadata": {},
     "output_type": "execute_result"
    }
   ],
   "source": [
    "importlib.reload(recreationlab)\n",
    "importlib.reload(campgrounds)"
   ]
  },
  {
   "cell_type": "code",
   "execution_count": 129,
   "metadata": {},
   "outputs": [
    {
     "name": "stdout",
     "output_type": "stream",
     "text": [
      "search: 05/21/2021 + 2 nights\n",
      "0 Pinon Flats Campground https://www.recreation.gov/camping/campgrounds/234685\n"
     ]
    }
   ],
   "source": [
    "checkin = '05/21/2021'\n",
    "out = campgrounds.co_great_sand_dunes.make_query(checkin, 2, \n",
    "                                notify='email',\n",
    "                                log = True,\n",
    "                                keep_looking=False)"
   ]
  },
  {
   "cell_type": "code",
   "execution_count": 124,
   "metadata": {},
   "outputs": [
    {
     "name": "stdout",
     "output_type": "stream",
     "text": [
      "8 WEST CHICAGO CREEK https://www.recreation.gov/camping/campgrounds/231859\n",
      "6 ECHO LAKE https://www.recreation.gov/camping/campgrounds/231857\n",
      "4 GENEVA PARK CAMPGROUND https://www.recreation.gov/camping/campgrounds/234118\n",
      "1 BURNING BEAR CAMPGROUND https://www.recreation.gov/camping/campgrounds/234737\n",
      "0 GLACIER BASIN CAMPGROUND https://www.recreation.gov/camping/campgrounds/232462\n",
      "0 PAWNEE https://www.recreation.gov/camping/campgrounds/232282\n",
      "0 CAMP DICK https://www.recreation.gov/camping/campgrounds/232369\n",
      "0 PEACEFUL VALLEY https://www.recreation.gov/camping/campgrounds/232368\n",
      "0 OLIVE RIDGE https://www.recreation.gov/camping/campgrounds/232281\n",
      "0 GUANELLA PASS https://www.recreation.gov/camping/campgrounds/232306\n"
     ]
    }
   ],
   "source": [
    "checkin = '08/13/2021'\n",
    "out = campgrounds.co.make_query(checkin, 1, \n",
    "                                notify='email',\n",
    "                                log = True,\n",
    "                                keep_looking=False)"
   ]
  },
  {
   "cell_type": "code",
   "execution_count": 88,
   "metadata": {},
   "outputs": [
    {
     "data": {
      "text/plain": [
       "[{'no_available': 13,\n",
       "  'campground_name': 'GLACIER BASIN CAMPGROUND',\n",
       "  'url': 'https://www.recreation.gov/camping/campgrounds/232462'},\n",
       " {'no_available': 0,\n",
       "  'campground_name': 'PAWNEE',\n",
       "  'url': 'https://www.recreation.gov/camping/campgrounds/232282'},\n",
       " {'no_available': 0,\n",
       "  'campground_name': 'CAMP DICK',\n",
       "  'url': 'https://www.recreation.gov/camping/campgrounds/232369'},\n",
       " {'no_available': 0,\n",
       "  'campground_name': 'PEACEFUL VALLEY',\n",
       "  'url': 'https://www.recreation.gov/camping/campgrounds/232368'},\n",
       " {'no_available': 0,\n",
       "  'campground_name': 'OLIVE RIDGE',\n",
       "  'url': 'https://www.recreation.gov/camping/campgrounds/232281'},\n",
       " {'no_available': 0,\n",
       "  'campground_name': 'GUANELLA PASS',\n",
       "  'url': 'https://www.recreation.gov/camping/campgrounds/232306'},\n",
       " {'no_available': 0,\n",
       "  'campground_name': 'GENEVA PARK CAMPGROUND',\n",
       "  'url': 'https://www.recreation.gov/camping/campgrounds/234118'},\n",
       " {'no_available': 0,\n",
       "  'campground_name': 'BURNING BEAR CAMPGROUND',\n",
       "  'url': 'https://www.recreation.gov/camping/campgrounds/234737'},\n",
       " {'no_available': 0,\n",
       "  'campground_name': 'WEST CHICAGO CREEK',\n",
       "  'url': 'https://www.recreation.gov/camping/campgrounds/231859'},\n",
       " {'no_available': 0,\n",
       "  'campground_name': 'ECHO LAKE',\n",
       "  'url': 'https://www.recreation.gov/camping/campgrounds/231857'}]"
      ]
     },
     "execution_count": 88,
     "metadata": {},
     "output_type": "execute_result"
    }
   ],
   "source": [
    "out"
   ]
  },
  {
   "cell_type": "code",
   "execution_count": 62,
   "metadata": {},
   "outputs": [
    {
     "data": {
      "text/plain": [
       "[{'no_available': 13,\n",
       "  'campground_name': 'GLACIER BASIN CAMPGROUND',\n",
       "  'url': 'https://www.recreation.gov/camping/campgrounds/232462'},\n",
       " {'no_available': 0,\n",
       "  'campground_name': 'PAWNEE',\n",
       "  'url': 'https://www.recreation.gov/camping/campgrounds/232282'},\n",
       " {'no_available': 0,\n",
       "  'campground_name': 'CAMP DICK',\n",
       "  'url': 'https://www.recreation.gov/camping/campgrounds/232369'},\n",
       " {'no_available': 0,\n",
       "  'campground_name': 'PEACEFUL VALLEY',\n",
       "  'url': 'https://www.recreation.gov/camping/campgrounds/232368'},\n",
       " {'no_available': 0,\n",
       "  'campground_name': 'OLIVE RIDGE',\n",
       "  'url': 'https://www.recreation.gov/camping/campgrounds/232281'},\n",
       " {'no_available': 0,\n",
       "  'campground_name': 'GUANELLA PASS',\n",
       "  'url': 'https://www.recreation.gov/camping/campgrounds/232306'},\n",
       " {'no_available': 0,\n",
       "  'campground_name': 'GENEVA PARK CAMPGROUND',\n",
       "  'url': 'https://www.recreation.gov/camping/campgrounds/234118'},\n",
       " {'no_available': 0,\n",
       "  'campground_name': 'BURNING BEAR CAMPGROUND',\n",
       "  'url': 'https://www.recreation.gov/camping/campgrounds/234737'},\n",
       " {'no_available': 0,\n",
       "  'campground_name': 'WEST CHICAGO CREEK',\n",
       "  'url': 'https://www.recreation.gov/camping/campgrounds/231859'},\n",
       " {'no_available': 0,\n",
       "  'campground_name': 'ECHO LAKE',\n",
       "  'url': 'https://www.recreation.gov/camping/campgrounds/231857'}]"
      ]
     },
     "execution_count": 62,
     "metadata": {},
     "output_type": "execute_result"
    }
   ],
   "source": [
    "res_list"
   ]
  },
  {
   "cell_type": "code",
   "execution_count": 66,
   "metadata": {},
   "outputs": [
    {
     "name": "stdout",
     "output_type": "stream",
     "text": [
      "13 GLACIER BASIN CAMPGROUND https://www.recreation.gov/camping/campgrounds/232462\n",
      "0 PAWNEE https://www.recreation.gov/camping/campgrounds/232282\n",
      "0 CAMP DICK https://www.recreation.gov/camping/campgrounds/232369\n",
      "0 PEACEFUL VALLEY https://www.recreation.gov/camping/campgrounds/232368\n",
      "0 OLIVE RIDGE https://www.recreation.gov/camping/campgrounds/232281\n",
      "0 GUANELLA PASS https://www.recreation.gov/camping/campgrounds/232306\n",
      "0 GENEVA PARK CAMPGROUND https://www.recreation.gov/camping/campgrounds/234118\n",
      "0 BURNING BEAR CAMPGROUND https://www.recreation.gov/camping/campgrounds/234737\n",
      "0 WEST CHICAGO CREEK https://www.recreation.gov/camping/campgrounds/231859\n",
      "0 ECHO LAKE https://www.recreation.gov/camping/campgrounds/231857\n"
     ]
    }
   ],
   "source": [
    "res_msg = '\\n'.join([f\"{res['no_available']} {res['campground_name']} {res['url']}\" for res in res_list])\n",
    "print(res_msg)"
   ]
  },
  {
   "cell_type": "code",
   "execution_count": 67,
   "metadata": {},
   "outputs": [
    {
     "data": {
      "text/plain": [
       "13"
      ]
     },
     "execution_count": 67,
     "metadata": {},
     "output_type": "execute_result"
    }
   ],
   "source": [
    "max([i['no_available'] for i in res_list])"
   ]
  },
  {
   "cell_type": "code",
   "execution_count": 78,
   "metadata": {},
   "outputs": [],
   "source": [
    "campgrounds_with_availability = [i for i in res_list if i['no_available'] > 0]\n"
   ]
  },
  {
   "cell_type": "code",
   "execution_count": 81,
   "metadata": {},
   "outputs": [
    {
     "data": {
      "text/plain": [
       "'SUCCESSFUL recreationdotgov search: 12/1'"
      ]
     },
     "execution_count": 81,
     "metadata": {},
     "output_type": "execute_result"
    }
   ],
   "source": [
    "f'SUCCESSFUL recreationdotgov search: {12}/{len(campgrounds_with_availability)}'"
   ]
  },
  {
   "cell_type": "code",
   "execution_count": 70,
   "metadata": {},
   "outputs": [],
   "source": [
    "res_numbers = [i['no_available'] for i in res_list]"
   ]
  },
  {
   "cell_type": "code",
   "execution_count": 74,
   "metadata": {},
   "outputs": [],
   "source": [
    "res_numbers[2] = 2"
   ]
  },
  {
   "cell_type": "code",
   "execution_count": 75,
   "metadata": {},
   "outputs": [
    {
     "data": {
      "text/plain": [
       "15"
      ]
     },
     "execution_count": 75,
     "metadata": {},
     "output_type": "execute_result"
    }
   ],
   "source": [
    "sum(res_numbers)"
   ]
  },
  {
   "cell_type": "markdown",
   "metadata": {},
   "source": [
    "# settings"
   ]
  },
  {
   "cell_type": "code",
   "execution_count": 16,
   "metadata": {},
   "outputs": [
    {
     "data": {
      "text/plain": [
       "<module 'recreationdotgov.recreationlab' from '/home/hagen/prog/recreation-gov-campsite-checker/recreationdotgov/recreationlab.py'>"
      ]
     },
     "execution_count": 16,
     "metadata": {},
     "output_type": "execute_result"
    }
   ],
   "source": [
    "importlib.reload(recreationlab)"
   ]
  },
  {
   "cell_type": "code",
   "execution_count": 37,
   "metadata": {},
   "outputs": [],
   "source": [
    "recreationlab.settings = recreationlab._rdgsettings.load_config()"
   ]
  },
  {
   "cell_type": "code",
   "execution_count": 38,
   "metadata": {},
   "outputs": [
    {
     "data": {
      "text/plain": [
       "['gmail', 'twilio']"
      ]
     },
     "execution_count": 38,
     "metadata": {},
     "output_type": "execute_result"
    }
   ],
   "source": [
    "recreationlab.settings.sections()"
   ]
  },
  {
   "cell_type": "code",
   "execution_count": null,
   "metadata": {},
   "outputs": [],
   "source": []
  },
  {
   "cell_type": "code",
   "execution_count": null,
   "metadata": {},
   "outputs": [],
   "source": []
  },
  {
   "cell_type": "markdown",
   "metadata": {},
   "source": [
    "# log"
   ]
  },
  {
   "cell_type": "code",
   "execution_count": 110,
   "metadata": {},
   "outputs": [],
   "source": [
    "import pathlib as _pl\n",
    "\n",
    "import datetime\n",
    "\n",
    "dt = datetime.datetime.now().isoformat()\n",
    "\n",
    "p2sf = _pl.Path.home().joinpath('.recreationdotgov/log.txt')\n",
    "\n",
    "\n",
    "\n",
    "pre = f'============\\n{dt}\\n============'\n",
    "post = '+++++++++++++\\n'\n",
    "entry = '\\n'.join([pre, msg,post])\n",
    "print(entry)\n",
    "\n",
    "with open(p2sf, 'a') as raus:\n",
    "    raus.write(entry)"
   ]
  },
  {
   "cell_type": "markdown",
   "metadata": {},
   "source": [
    "# notify"
   ]
  },
  {
   "cell_type": "markdown",
   "metadata": {},
   "source": [
    "## send email"
   ]
  },
  {
   "cell_type": "code",
   "execution_count": 1,
   "metadata": {},
   "outputs": [],
   "source": [
    "from twilio.rest import Client"
   ]
  },
  {
   "cell_type": "code",
   "execution_count": 6,
   "metadata": {},
   "outputs": [],
   "source": [
    "account_sid = \n",
    "auth_token = \n",
    "auth_token = \n",
    "client = Client(account_sid, auth_token)"
   ]
  },
  {
   "cell_type": "code",
   "execution_count": 7,
   "metadata": {},
   "outputs": [],
   "source": [
    "msg = 'MC 16: https://www.recreation.gov/camping/campsites/27547'\n",
    "msg = 'MC 15: https://www.recreation.gov/camping/campsites/27889'\n",
    "msg = \"bla\\n---------\\nbuba\""
   ]
  },
  {
   "cell_type": "code",
   "execution_count": 8,
   "metadata": {},
   "outputs": [],
   "source": [
    "message = client.messages.create(body=msg, from_='+12517664860', to= '+15052055425')"
   ]
  },
  {
   "cell_type": "code",
   "execution_count": null,
   "metadata": {},
   "outputs": [],
   "source": []
  },
  {
   "cell_type": "markdown",
   "metadata": {},
   "source": [
    "## playsound"
   ]
  },
  {
   "cell_type": "code",
   "execution_count": 3,
   "metadata": {},
   "outputs": [],
   "source": [
    "from playsound import playsound"
   ]
  },
  {
   "cell_type": "code",
   "execution_count": 5,
   "metadata": {},
   "outputs": [],
   "source": [
    "p2s = '/usr/share/sounds/gnome/default/alerts/bark.ogg'\n",
    "# p2s = '/mnt/data/hagen/hoerspiele/derHerrDerRinge/Der_Herr_der_Ringe_30-zu_guter letzt.mp3'"
   ]
  },
  {
   "cell_type": "code",
   "execution_count": null,
   "metadata": {},
   "outputs": [],
   "source": [
    "playsound(p2s)"
   ]
  },
  {
   "cell_type": "code",
   "execution_count": 1,
   "metadata": {},
   "outputs": [
    {
     "ename": "ModuleNotFoundError",
     "evalue": "No module named 'simpleaudio'",
     "output_type": "error",
     "traceback": [
      "\u001b[0;31m---------------------------------------------------------------------------\u001b[0m",
      "\u001b[0;31mModuleNotFoundError\u001b[0m                       Traceback (most recent call last)",
      "\u001b[0;32m<ipython-input-1-daa16f98fe89>\u001b[0m in \u001b[0;36m<module>\u001b[0;34m\u001b[0m\n\u001b[0;32m----> 1\u001b[0;31m \u001b[0;32mimport\u001b[0m \u001b[0msimpleaudio\u001b[0m \u001b[0;32mas\u001b[0m \u001b[0msa\u001b[0m\u001b[0;34m\u001b[0m\u001b[0;34m\u001b[0m\u001b[0m\n\u001b[0m",
      "\u001b[0;31mModuleNotFoundError\u001b[0m: No module named 'simpleaudio'"
     ]
    }
   ],
   "source": [
    "import simpleaudio as sa"
   ]
  },
  {
   "cell_type": "code",
   "execution_count": 40,
   "metadata": {},
   "outputs": [],
   "source": [
    "import os"
   ]
  },
  {
   "cell_type": "code",
   "execution_count": 43,
   "metadata": {},
   "outputs": [
    {
     "data": {
      "text/plain": [
       "0"
      ]
     },
     "execution_count": 43,
     "metadata": {},
     "output_type": "execute_result"
    }
   ],
   "source": [
    "os.system('spd-say \"huhuuuuuu campsite found\"')"
   ]
  },
  {
   "cell_type": "code",
   "execution_count": null,
   "metadata": {},
   "outputs": [],
   "source": []
  },
  {
   "cell_type": "code",
   "execution_count": null,
   "metadata": {},
   "outputs": [],
   "source": []
  }
 ],
 "metadata": {
  "kernelspec": {
   "display_name": "Python 3",
   "language": "python",
   "name": "python3"
  },
  "language_info": {
   "codemirror_mode": {
    "name": "ipython",
    "version": 3
   },
   "file_extension": ".py",
   "mimetype": "text/x-python",
   "name": "python",
   "nbconvert_exporter": "python",
   "pygments_lexer": "ipython3",
   "version": "3.8.5"
  },
  "toc-autonumbering": true
 },
 "nbformat": 4,
 "nbformat_minor": 4
}
